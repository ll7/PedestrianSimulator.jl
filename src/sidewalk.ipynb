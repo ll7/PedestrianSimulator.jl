{
 "cells": [
  {
   "cell_type": "markdown",
   "metadata": {},
   "source": [
    "# Sidewalk\n",
    "\n",
    "from https://raw.githubusercontent.com/sisl/AutomotiveSimulator.jl/gh-pages/dev/notebooks/sidewalk.ipynb"
   ]
  },
  {
   "cell_type": "markdown",
   "metadata": {},
   "source": [
    "In this notebook, we will be creating a sidewalk environment in which\n",
    " pedestrians can walk along the sidewalk and cross the street as cars pass."
   ]
  },
  {
   "cell_type": "code",
   "execution_count": 3,
   "metadata": {},
   "outputs": [],
   "source": [
    "using Parameters\n",
    "using AutomotiveSimulator\n",
    "using AutomotiveVisualization\n",
    "AutomotiveVisualization.colortheme[\"background\"] = colorant\"white\"; # hide\n",
    "using Cairo"
   ]
  },
  {
   "cell_type": "markdown",
   "metadata": {},
   "source": [
    "Define sidewalk IDs"
   ]
  },
  {
   "cell_type": "code",
   "execution_count": 4,
   "metadata": {},
   "outputs": [
    {
     "data": {
      "text/plain": [
       "2"
      ]
     },
     "metadata": {},
     "output_type": "display_data"
    }
   ],
   "source": [
    "const TOP = 1\n",
    "const BOTTOM = 2"
   ]
  },
  {
   "cell_type": "markdown",
   "metadata": {},
   "source": [
    "### Creating the Environment\n",
    "Here, we create a new type of environment called SidewalkEnv. It consists of a roadway, crosswalk, and sidewalk. A sidewalk is a Vector of Lanes that run alongside the road."
   ]
  },
  {
   "cell_type": "code",
   "execution_count": 5,
   "metadata": {},
   "outputs": [],
   "source": [
    "# create new environment\n",
    "@with_kw mutable struct SidewalkEnv\n",
    "    roadway::Roadway\n",
    "    crosswalk::Lane\n",
    "    sidewalk::Vector{Lane}\n",
    "end;"
   ]
  },
  {
   "cell_type": "markdown",
   "metadata": {},
   "source": [
    "#### Defining the Sidewalk\n",
    "We define the sidewalk's parameters."
   ]
  },
  {
   "cell_type": "code",
   "execution_count": 6,
   "metadata": {},
   "outputs": [
    {
     "data": {
      "text/plain": [
       "6.0"
      ]
     },
     "metadata": {},
     "output_type": "display_data"
    }
   ],
   "source": [
    "# Geometry parameters of the sidewalk\n",
    "roadway_length = 100.\n",
    "crosswalk_length = 15.\n",
    "crosswalk_width = 6.0\n",
    "crosswalk_pos = roadway_length/2\n",
    "sidewalk_width = 3.0\n",
    "sidewalk_pos = crosswalk_length/2 - sidewalk_width / 2"
   ]
  },
  {
   "cell_type": "markdown",
   "metadata": {},
   "source": [
    "Now we create the sidewalk environment.\n",
    "Our environment will consist of:\n",
    "* 1-way road with 2 lanes\n",
    "* Unsignalized zebra crosswalk perpendicular to the road\n",
    "* Sidewalks above and below the road"
   ]
  },
  {
   "cell_type": "markdown",
   "metadata": {},
   "source": [
    "Generate straight roadway of length roadway_length with 2 lanes.\n",
    "Returns a Roadway type (Array of segments).\n",
    "There is already a method to generate a simple straight roadway, which we use here."
   ]
  },
  {
   "cell_type": "code",
   "execution_count": 7,
   "metadata": {},
   "outputs": [
    {
     "data": {
      "text/plain": [
       "Roadway"
      ]
     },
     "metadata": {},
     "output_type": "display_data"
    }
   ],
   "source": [
    "# gernerate the roadway\n",
    "roadway = gen_straight_roadway(2, roadway_length)"
   ]
  },
  {
   "cell_type": "markdown",
   "metadata": {},
   "source": [
    "Generate the crosswalk.\n",
    "Our crosswalk does not have a predefined method for generation, so we define it with a LaneTag and a curve."
   ]
  },
  {
   "cell_type": "code",
   "execution_count": 8,
   "metadata": {},
   "outputs": [
    {
     "data": {
      "text/plain": [
       "Lane{Float64}(LaneTag(3, 2), CurvePt{Float64}[CurvePt({0.000, -3.000, 0.000}, 0.000, 0.000, NaN), CurvePt({100.000, -3.000, 0.000}, 100.000, 0.000, NaN)], 3.0, SpeedLimit(-Inf, Inf), LaneBoundary(:unknown, :unknown), LaneBoundary(:unknown, :unknown), LaneConnection{Int64, Float64}[], LaneConnection{Int64, Float64}[])"
      ]
     },
     "metadata": {},
     "output_type": "display_data"
    }
   ],
   "source": [
    "n_samples = 2 # for curve generation\n",
    "crosswalk = Lane(LaneTag(2,1), gen_straight_curve(VecE2(crosswalk_pos, -crosswalk_length/2),\n",
    "                                                  VecE2(crosswalk_pos, crosswalk_length/2),\n",
    "                                                   n_samples), width = crosswalk_width)\n",
    "cw_segment = RoadSegment(2, [crosswalk])\n",
    "push!(roadway.segments, cw_segment) # Append the crosswalk to the roadway\n",
    "\n",
    "# Generate the sidewalk\n",
    "top_sidewalk = Lane(LaneTag(3, TOP), gen_straight_curve(VecE2(0., sidewalk_pos),\n",
    "                                                      VecE2(roadway_length, sidewalk_pos),\n",
    "                                                        n_samples), width = sidewalk_width)\n",
    "bottom_sidewalk = Lane(LaneTag(3, BOTTOM), gen_straight_curve(VecE2(0., -(sidewalk_pos - sidewalk_width)),\n",
    "                                                          VecE2(roadway_length, -(sidewalk_pos - sidewalk_width)),\n",
    "                                                            n_samples), width = sidewalk_width)"
   ]
  },
  {
   "cell_type": "markdown",
   "metadata": {},
   "source": [
    "Note: we subtract the sidewalk_width from the sidewalk position so that the edge is flush with the road."
   ]
  },
  {
   "cell_type": "code",
   "execution_count": 9,
   "metadata": {},
   "outputs": [
    {
     "data": {
      "text/plain": [
       "3-element Vector{RoadSegment{Float64}}:\n",
       " RoadSegment{Float64}(1, Lane{Float64}[Lane{Float64}(LaneTag(1, 1), CurvePt{Float64}[CurvePt({0.000, 0.000, 0.000}, 0.000, NaN, NaN), CurvePt({100.000, 0.000, 0.000}, 100.000, NaN, NaN)], 3.0, SpeedLimit(-Inf, Inf), LaneBoundary(:broken, :white), LaneBoundary(:solid, :white), LaneConnection{Int64, Float64}[], LaneConnection{Int64, Float64}[]), Lane{Float64}(LaneTag(1, 2), CurvePt{Float64}[CurvePt({0.000, 3.000, 0.000}, 0.000, NaN, NaN), CurvePt({100.000, 3.000, 0.000}, 100.000, NaN, NaN)], 3.0, SpeedLimit(-Inf, Inf), LaneBoundary(:solid, :white), LaneBoundary(:broken, :white), LaneConnection{Int64, Float64}[], LaneConnection{Int64, Float64}[])])\n",
       " RoadSegment{Float64}(2, Lane{Float64}[Lane{Float64}(LaneTag(2, 1), CurvePt{Float64}[CurvePt({50.000, -7.500, 1.571}, 0.000, 0.000, NaN), CurvePt({50.000, 7.500, 1.571}, 15.000, 0.000, NaN)], 6.0, SpeedLimit(-Inf, Inf), LaneBoundary(:unknown, :unknown), LaneBoundary(:unknown, :unknown), LaneConnection{Int64, Float64}[], LaneConnection{Int64, Float64}[])])\n",
       " RoadSegment{Float64}(3, Lane{Float64}[Lane{Float64}(LaneTag(3, 1), CurvePt{Float64}[CurvePt({0.000, 6.000, 0.000}, 0.000, 0.000, NaN), CurvePt({100.000, 6.000, 0.000}, 100.000, 0.000, NaN)], 3.0, SpeedLimit(-Inf, Inf), LaneBoundary(:unknown, :unknown), LaneBoundary(:unknown, :unknown), LaneConnection{Int64, Float64}[], LaneConnection{Int64, Float64}[]), Lane{Float64}(LaneTag(3, 2), CurvePt{Float64}[CurvePt({0.000, -3.000, 0.000}, 0.000, 0.000, NaN), CurvePt({100.000, -3.000, 0.000}, 100.000, 0.000, NaN)], 3.0, SpeedLimit(-Inf, Inf), LaneBoundary(:unknown, :unknown), LaneBoundary(:unknown, :unknown), LaneConnection{Int64, Float64}[], LaneConnection{Int64, Float64}[])])"
      ]
     },
     "metadata": {},
     "output_type": "display_data"
    }
   ],
   "source": [
    "sw_segment = RoadSegment(3, [top_sidewalk, bottom_sidewalk])\n",
    "push!(roadway.segments, sw_segment)"
   ]
  },
  {
   "cell_type": "markdown",
   "metadata": {},
   "source": [
    "Initialize crosswalk environment"
   ]
  },
  {
   "cell_type": "code",
   "execution_count": 10,
   "metadata": {},
   "outputs": [],
   "source": [
    "env = SidewalkEnv(roadway, crosswalk, [top_sidewalk, bottom_sidewalk]);"
   ]
  },
  {
   "cell_type": "markdown",
   "metadata": {},
   "source": [
    "Since there is no defined `add_renderable!` method for the crosswalk and the sidewalk, we must define it ourselves."
   ]
  },
  {
   "cell_type": "code",
   "execution_count": 11,
   "metadata": {},
   "outputs": [
    {
     "data": {
      "image/png": "[encoded data removed]",
      "text/plain": [
       "Cairo.CairoSurfaceIOStream{UInt32}(Ptr{Nothing} @0x00000000052c6e80, 1000.0, 600.0, IOBuffer(data=UInt8[...], readable=true, writable=true, seekable=true, append=false, size=0, maxsize=Inf, ptr=1, mark=-1))"
      ]
     },
     "metadata": {},
     "output_type": "display_data"
    }
   ],
   "source": [
    "function AutomotiveVisualization.add_renderable!(rendermodel::RenderModel, env::SidewalkEnv)\n",
    "    # Render sidewalk\n",
    "    for sw in env.sidewalk\n",
    "        curve = sw.curve\n",
    "        n = length(curve)\n",
    "        pts = Array{Float64}(undef, 2, n)\n",
    "        for (i,pt) in enumerate(curve)\n",
    "            pts[1,i] = pt.pos.x\n",
    "            pts[2,i] = pt.pos.y\n",
    "        end\n",
    "        add_instruction!(rendermodel, render_line, (pts, colorant\"grey\", sw.width, Cairo.CAIRO_LINE_CAP_BUTT))\n",
    "    end\n",
    "\n",
    "    # Render roadway\n",
    "    roadway = gen_straight_roadway(2, roadway_length)\n",
    "    add_renderable!(rendermodel, roadway)\n",
    "\n",
    "    # Render crosswalk\n",
    "    curve = env.crosswalk.curve\n",
    "    n = length(curve)\n",
    "    pts = Array{Float64}(undef, 2, n)\n",
    "    for (i,pt) in enumerate(curve)\n",
    "        pts[1,i] = pt.pos.x\n",
    "        pts[2,i] = pt.pos.y\n",
    "    end\n",
    "\n",
    "    # We can add render instructions from AutomotiveVisualization.\n",
    "    # Here we want the crosswalk to appear as a white-striped zebra crossing rather than a road.\n",
    "    add_instruction!(rendermodel, render_dashed_line, (pts, colorant\"white\", env.crosswalk.width, 1.0, 1.0, 0.0, Cairo.CAIRO_LINE_CAP_BUTT))\n",
    "\n",
    "    return rendermodel\n",
    "end\n",
    "\n",
    "snapshot = render([env])"
   ]
  },
  {
   "cell_type": "markdown",
   "metadata": {},
   "source": [
    "## Pedestrian\n",
    "\n",
    "Now we can define our pedestrian."
   ]
  },
  {
   "cell_type": "markdown",
   "metadata": {},
   "source": [
    "We define its class and the dimensions of its bounding box."
   ]
  },
  {
   "cell_type": "code",
   "execution_count": 12,
   "metadata": {},
   "outputs": [
    {
     "data": {
      "text/plain": [
       "VehicleDef(PEDESTRIAN, 1.000, 1.000)"
      ]
     },
     "metadata": {},
     "output_type": "display_data"
    }
   ],
   "source": [
    "const PEDESTRIAN_DEF = VehicleDef(AgentClass.PEDESTRIAN, 1.0, 1.0)"
   ]
  },
  {
   "cell_type": "markdown",
   "metadata": {},
   "source": [
    "We assign models to each agent in the scene."
   ]
  },
  {
   "cell_type": "code",
   "execution_count": 13,
   "metadata": {},
   "outputs": [
    {
     "data": {
      "text/plain": [
       "0.1"
      ]
     },
     "metadata": {},
     "output_type": "display_data"
    }
   ],
   "source": [
    "timestep = 0.1"
   ]
  },
  {
   "cell_type": "markdown",
   "metadata": {},
   "source": [
    "Crossing pedestrian definition"
   ]
  },
  {
   "cell_type": "code",
   "execution_count": 14,
   "metadata": {},
   "outputs": [
    {
     "data": {
      "text/plain": [
       "Entity{VehicleState, VehicleDef, Symbol}(VehicleState(VecSE2({49.000, -3.000}, 0.000), Frenet(RoadIndex({1,   0}, {3, 2}), 49.000, 0.000, 0.000), 1.300), VehicleDef(PEDESTRIAN, 1.000, 1.000), :pedestrian)"
      ]
     },
     "metadata": {},
     "output_type": "display_data"
    }
   ],
   "source": [
    "ped_init_state = VehicleState(VecSE2(49.0,-3.0,0.), env.sidewalk[BOTTOM], roadway, 1.3)\n",
    "ped = Entity(ped_init_state, PEDESTRIAN_DEF, :pedestrian)"
   ]
  },
  {
   "cell_type": "markdown",
   "metadata": {},
   "source": [
    "Car definition"
   ]
  },
  {
   "cell_type": "code",
   "execution_count": 15,
   "metadata": {},
   "outputs": [
    {
     "data": {
      "text/plain": [
       "Scene{Entity{VehicleState, VehicleDef, Symbol}}(2 entities)"
      ]
     },
     "metadata": {},
     "output_type": "display_data"
    }
   ],
   "source": [
    "car_initial_state = VehicleState(VecSE2(0.0, 0., 0.), roadway.segments[1].lanes[1],roadway, 8.0)\n",
    "car = Entity(car_initial_state, VehicleDef(), :car)\n",
    "\n",
    "scene = Scene([ped, car])"
   ]
  },
  {
   "cell_type": "markdown",
   "metadata": {},
   "source": [
    "Define a model for each entity present in the scene"
   ]
  },
  {
   "cell_type": "code",
   "execution_count": 16,
   "metadata": {},
   "outputs": [
    {
     "data": {
      "text/plain": [
       "Dict{Symbol, DriverModel} with 2 entries:\n",
       "  :pedestrian => SidewalkPedestrianModel(0.1, -2, 3.83019, Lane{Float64}(LaneTa…\n",
       "  :car        => LatLonSeparableDriver{LatLonAccel}(ProportionalLaneTracker(NaN…"
      ]
     },
     "metadata": {},
     "output_type": "display_data"
    }
   ],
   "source": [
    "models = Dict{Symbol, DriverModel}(\n",
    "    :pedestrian => SidewalkPedestrianModel(\n",
    "        timestep=timestep, crosswalk=env.crosswalk,\n",
    "        sw_origin = env.sidewalk[BOTTOM], sw_dest = env.sidewalk[TOP]\n",
    "    ),\n",
    "    :car        => LatLonSeparableDriver( # produces LatLonAccels\n",
    "        ProportionalLaneTracker(), # lateral model\n",
    "        IntelligentDriverModel(), # longitudinal model\n",
    "    )\n",
    ")\n",
    "\n",
    "### Simulate"
   ]
  },
  {
   "cell_type": "markdown",
   "metadata": {},
   "source": [
    "Finally, we simulate and visualize the scene."
   ]
  },
  {
   "cell_type": "code",
   "execution_count": 17,
   "metadata": {},
   "outputs": [
    {
     "data": {
      "text/plain": [
       "\"sidwalk_animation.gif\""
      ]
     },
     "metadata": {},
     "output_type": "display_data"
    }
   ],
   "source": [
    "using Reel\n",
    "Reel.set_output_type(\"gif\") # or \"mp4\" https://github.com/shashi/Reel.jl#in-ijulia\n",
    "\n",
    "nticks = 300\n",
    "scenes = simulate(scene, roadway, models, nticks, timestep)\n",
    "\n",
    "animation = roll(fps=1.0/timestep, duration=nticks*timestep) do t, dt\n",
    "    i = Int(floor(t/dt)) + 1\n",
    "    render([env, scenes[i]])\n",
    "end;\n",
    "\n",
    "write(\"sidwalk_animation.gif\", animation)"
   ]
  },
  {
   "cell_type": "markdown",
   "metadata": {},
   "source": [
    "![test](sidewalk_animation.gif)"
   ]
  },
  {
   "cell_type": "markdown",
   "metadata": {},
   "source": [
    "We can use a slider to scroll through each scene in the simulation. This usually takes less time than rendering a video."
   ]
  },
  {
   "cell_type": "markdown",
   "metadata": {},
   "source": [
    "---\n",
    "\n",
    "*This notebook was generated using [Literate.jl](https://github.com/fredrikekre/Literate.jl).*"
   ]
  }
 ],
 "metadata": {
  "kernelspec": {
   "display_name": "Julia 1.6.5",
   "language": "julia",
   "name": "julia-1.6"
  },
  "language_info": {
   "file_extension": ".jl",
   "mimetype": "application/julia",
   "name": "julia",
   "version": "1.6.5"
  }
 },
 "nbformat": 4,
 "nbformat_minor": 3
}
